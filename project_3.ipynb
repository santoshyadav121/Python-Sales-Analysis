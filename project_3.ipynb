{
  "nbformat": 4,
  "nbformat_minor": 0,
  "metadata": {
    "colab": {
      "name": "project-3.ipynb",
      "provenance": [],
      "collapsed_sections": [],
      "toc_visible": true
    },
    "kernelspec": {
      "display_name": "Python 3",
      "name": "python3"
    },
    "language_info": {
      "name": "python"
    }
  },
  "cells": [
    {
      "cell_type": "code",
      "metadata": {
        "id": "hcrZ-P0QSTQe"
      },
      "source": [
        "import numpy as np\n",
        "import pandas as pd\n",
        "import matplotlib.pyplot as plt\n",
        "import seaborn as sns\n",
        "import os\n",
        "\n",
        "from collections import Counter\n",
        "from itertools import combinations"
      ],
      "execution_count": null,
      "outputs": []
    },
    {
      "cell_type": "code",
      "metadata": {
        "colab": {
          "base_uri": "https://localhost:8080/"
        },
        "id": "O2at8N6rneIm",
        "outputId": "0c31bd62-929a-43b6-d1b7-41ce37a7ee09"
      },
      "source": [
        "from google.colab import drive\n",
        "drive.mount('/content/drive')"
      ],
      "execution_count": null,
      "outputs": [
        {
          "output_type": "stream",
          "name": "stdout",
          "text": [
            "Drive already mounted at /content/drive; to attempt to forcibly remount, call drive.mount(\"/content/drive\", force_remount=True).\n"
          ]
        }
      ]
    },
    {
      "cell_type": "code",
      "metadata": {
        "id": "_hGtGjb2npM6"
      },
      "source": [
        "all_files = pd.DataFrame()\n",
        "path = '/content/drive/MyDrive/ML/project-3/Pandas-Data-Science-Tasks-master/SalesAnalysis/Sales_Data'\n",
        "for item in os.listdir(path):\n",
        "  df = pd.read_csv(os.path.join(path,item))\n",
        "  all_files = all_files.append(df)\n",
        "\n",
        "all_files.to_csv('/content/drive/MyDrive/ML/project-3/all_files.csv',index=False)"
      ],
      "execution_count": null,
      "outputs": []
    },
    {
      "cell_type": "code",
      "metadata": {
        "id": "5T3cwLUho6C2",
        "colab": {
          "base_uri": "https://localhost:8080/",
          "height": 612
        },
        "outputId": "52d10fbf-17cf-4329-908f-ef383eeeaf9c"
      },
      "source": [
        "all_data= pd.read_csv('/content/drive/MyDrive/ML/project-3/all_files.csv')\n",
        "all_data"
      ],
      "execution_count": null,
      "outputs": [
        {
          "output_type": "execute_result",
          "data": {
            "text/html": [
              "<div>\n",
              "<style scoped>\n",
              "    .dataframe tbody tr th:only-of-type {\n",
              "        vertical-align: middle;\n",
              "    }\n",
              "\n",
              "    .dataframe tbody tr th {\n",
              "        vertical-align: top;\n",
              "    }\n",
              "\n",
              "    .dataframe thead th {\n",
              "        text-align: right;\n",
              "    }\n",
              "</style>\n",
              "<table border=\"1\" class=\"dataframe\">\n",
              "  <thead>\n",
              "    <tr style=\"text-align: right;\">\n",
              "      <th></th>\n",
              "      <th>Order ID</th>\n",
              "      <th>Product</th>\n",
              "      <th>Quantity Ordered</th>\n",
              "      <th>Price Each</th>\n",
              "      <th>Order Date</th>\n",
              "      <th>Purchase Address</th>\n",
              "    </tr>\n",
              "  </thead>\n",
              "  <tbody>\n",
              "    <tr>\n",
              "      <th>0</th>\n",
              "      <td>150502</td>\n",
              "      <td>iPhone</td>\n",
              "      <td>1</td>\n",
              "      <td>700</td>\n",
              "      <td>02/18/19 01:35</td>\n",
              "      <td>866 Spruce St, Portland, ME 04101</td>\n",
              "    </tr>\n",
              "    <tr>\n",
              "      <th>1</th>\n",
              "      <td>150503</td>\n",
              "      <td>AA Batteries (4-pack)</td>\n",
              "      <td>1</td>\n",
              "      <td>3.84</td>\n",
              "      <td>02/13/19 07:24</td>\n",
              "      <td>18 13th St, San Francisco, CA 94016</td>\n",
              "    </tr>\n",
              "    <tr>\n",
              "      <th>2</th>\n",
              "      <td>150504</td>\n",
              "      <td>27in 4K Gaming Monitor</td>\n",
              "      <td>1</td>\n",
              "      <td>389.99</td>\n",
              "      <td>02/18/19 09:46</td>\n",
              "      <td>52 6th St, New York City, NY 10001</td>\n",
              "    </tr>\n",
              "    <tr>\n",
              "      <th>3</th>\n",
              "      <td>150505</td>\n",
              "      <td>Lightning Charging Cable</td>\n",
              "      <td>1</td>\n",
              "      <td>14.95</td>\n",
              "      <td>02/02/19 16:47</td>\n",
              "      <td>129 Cherry St, Atlanta, GA 30301</td>\n",
              "    </tr>\n",
              "    <tr>\n",
              "      <th>4</th>\n",
              "      <td>150506</td>\n",
              "      <td>AA Batteries (4-pack)</td>\n",
              "      <td>2</td>\n",
              "      <td>3.84</td>\n",
              "      <td>02/28/19 20:32</td>\n",
              "      <td>548 Lincoln St, Seattle, WA 98101</td>\n",
              "    </tr>\n",
              "    <tr>\n",
              "      <th>...</th>\n",
              "      <td>...</td>\n",
              "      <td>...</td>\n",
              "      <td>...</td>\n",
              "      <td>...</td>\n",
              "      <td>...</td>\n",
              "      <td>...</td>\n",
              "    </tr>\n",
              "    <tr>\n",
              "      <th>186845</th>\n",
              "      <td>278792</td>\n",
              "      <td>AA Batteries (4-pack)</td>\n",
              "      <td>1</td>\n",
              "      <td>3.84</td>\n",
              "      <td>10/12/19 04:32</td>\n",
              "      <td>920 Adams St, San Francisco, CA 94016</td>\n",
              "    </tr>\n",
              "    <tr>\n",
              "      <th>186846</th>\n",
              "      <td>278793</td>\n",
              "      <td>Wired Headphones</td>\n",
              "      <td>1</td>\n",
              "      <td>11.99</td>\n",
              "      <td>10/28/19 22:00</td>\n",
              "      <td>161 Chestnut St, Los Angeles, CA 90001</td>\n",
              "    </tr>\n",
              "    <tr>\n",
              "      <th>186847</th>\n",
              "      <td>278794</td>\n",
              "      <td>AA Batteries (4-pack)</td>\n",
              "      <td>1</td>\n",
              "      <td>3.84</td>\n",
              "      <td>10/09/19 20:58</td>\n",
              "      <td>346 Spruce St, San Francisco, CA 94016</td>\n",
              "    </tr>\n",
              "    <tr>\n",
              "      <th>186848</th>\n",
              "      <td>278795</td>\n",
              "      <td>iPhone</td>\n",
              "      <td>1</td>\n",
              "      <td>700</td>\n",
              "      <td>10/31/19 17:21</td>\n",
              "      <td>291 Hill St, Seattle, WA 98101</td>\n",
              "    </tr>\n",
              "    <tr>\n",
              "      <th>186849</th>\n",
              "      <td>278796</td>\n",
              "      <td>Wired Headphones</td>\n",
              "      <td>1</td>\n",
              "      <td>11.99</td>\n",
              "      <td>10/13/19 11:20</td>\n",
              "      <td>547 Jefferson St, Los Angeles, CA 90001</td>\n",
              "    </tr>\n",
              "  </tbody>\n",
              "</table>\n",
              "<p>186850 rows × 6 columns</p>\n",
              "</div>"
            ],
            "text/plain": [
              "       Order ID  ...                         Purchase Address\n",
              "0        150502  ...        866 Spruce St, Portland, ME 04101\n",
              "1        150503  ...      18 13th St, San Francisco, CA 94016\n",
              "2        150504  ...       52 6th St, New York City, NY 10001\n",
              "3        150505  ...         129 Cherry St, Atlanta, GA 30301\n",
              "4        150506  ...        548 Lincoln St, Seattle, WA 98101\n",
              "...         ...  ...                                      ...\n",
              "186845   278792  ...    920 Adams St, San Francisco, CA 94016\n",
              "186846   278793  ...   161 Chestnut St, Los Angeles, CA 90001\n",
              "186847   278794  ...   346 Spruce St, San Francisco, CA 94016\n",
              "186848   278795  ...           291 Hill St, Seattle, WA 98101\n",
              "186849   278796  ...  547 Jefferson St, Los Angeles, CA 90001\n",
              "\n",
              "[186850 rows x 6 columns]"
            ]
          },
          "metadata": {},
          "execution_count": 71
        }
      ]
    },
    {
      "cell_type": "markdown",
      "metadata": {
        "id": "NxB5z7c4K7Sk"
      },
      "source": [
        "# Section1"
      ]
    },
    {
      "cell_type": "markdown",
      "metadata": {
        "id": "BnnZt1prnacl"
      },
      "source": [
        "### **Data Cleaning and Preprocessing**"
      ]
    },
    {
      "cell_type": "markdown",
      "metadata": {
        "id": "fj8oweZq3nOL"
      },
      "source": [
        "first of all lets check all the null values"
      ]
    },
    {
      "cell_type": "code",
      "metadata": {
        "colab": {
          "base_uri": "https://localhost:8080/"
        },
        "id": "ABujOUxV3uyk",
        "outputId": "1dc42381-2de5-4bde-a748-21eb580dd9b2"
      },
      "source": [
        "all_data.isnull().sum()"
      ],
      "execution_count": null,
      "outputs": [
        {
          "output_type": "execute_result",
          "data": {
            "text/plain": [
              "Order ID            545\n",
              "Product             545\n",
              "Quantity Ordered    545\n",
              "Price Each          545\n",
              "Order Date          545\n",
              "Purchase Address    545\n",
              "dtype: int64"
            ]
          },
          "metadata": {},
          "execution_count": 72
        }
      ]
    },
    {
      "cell_type": "markdown",
      "metadata": {
        "id": "54r-iO1a37do"
      },
      "source": [
        "there are 545 null rows in each of these column "
      ]
    },
    {
      "cell_type": "code",
      "metadata": {
        "colab": {
          "base_uri": "https://localhost:8080/",
          "height": 422
        },
        "id": "cpmM0-omtvwt",
        "outputId": "150037fb-793c-4c85-e82d-4a95c68e7ebb"
      },
      "source": [
        "all_data[all_data.isnull().all(axis =1)]"
      ],
      "execution_count": null,
      "outputs": [
        {
          "output_type": "execute_result",
          "data": {
            "text/html": [
              "<div>\n",
              "<style scoped>\n",
              "    .dataframe tbody tr th:only-of-type {\n",
              "        vertical-align: middle;\n",
              "    }\n",
              "\n",
              "    .dataframe tbody tr th {\n",
              "        vertical-align: top;\n",
              "    }\n",
              "\n",
              "    .dataframe thead th {\n",
              "        text-align: right;\n",
              "    }\n",
              "</style>\n",
              "<table border=\"1\" class=\"dataframe\">\n",
              "  <thead>\n",
              "    <tr style=\"text-align: right;\">\n",
              "      <th></th>\n",
              "      <th>Order ID</th>\n",
              "      <th>Product</th>\n",
              "      <th>Quantity Ordered</th>\n",
              "      <th>Price Each</th>\n",
              "      <th>Order Date</th>\n",
              "      <th>Purchase Address</th>\n",
              "    </tr>\n",
              "  </thead>\n",
              "  <tbody>\n",
              "    <tr>\n",
              "      <th>75</th>\n",
              "      <td>NaN</td>\n",
              "      <td>NaN</td>\n",
              "      <td>NaN</td>\n",
              "      <td>NaN</td>\n",
              "      <td>NaN</td>\n",
              "      <td>NaN</td>\n",
              "    </tr>\n",
              "    <tr>\n",
              "      <th>169</th>\n",
              "      <td>NaN</td>\n",
              "      <td>NaN</td>\n",
              "      <td>NaN</td>\n",
              "      <td>NaN</td>\n",
              "      <td>NaN</td>\n",
              "      <td>NaN</td>\n",
              "    </tr>\n",
              "    <tr>\n",
              "      <th>172</th>\n",
              "      <td>NaN</td>\n",
              "      <td>NaN</td>\n",
              "      <td>NaN</td>\n",
              "      <td>NaN</td>\n",
              "      <td>NaN</td>\n",
              "      <td>NaN</td>\n",
              "    </tr>\n",
              "    <tr>\n",
              "      <th>1488</th>\n",
              "      <td>NaN</td>\n",
              "      <td>NaN</td>\n",
              "      <td>NaN</td>\n",
              "      <td>NaN</td>\n",
              "      <td>NaN</td>\n",
              "      <td>NaN</td>\n",
              "    </tr>\n",
              "    <tr>\n",
              "      <th>1517</th>\n",
              "      <td>NaN</td>\n",
              "      <td>NaN</td>\n",
              "      <td>NaN</td>\n",
              "      <td>NaN</td>\n",
              "      <td>NaN</td>\n",
              "      <td>NaN</td>\n",
              "    </tr>\n",
              "    <tr>\n",
              "      <th>...</th>\n",
              "      <td>...</td>\n",
              "      <td>...</td>\n",
              "      <td>...</td>\n",
              "      <td>...</td>\n",
              "      <td>...</td>\n",
              "      <td>...</td>\n",
              "    </tr>\n",
              "    <tr>\n",
              "      <th>184390</th>\n",
              "      <td>NaN</td>\n",
              "      <td>NaN</td>\n",
              "      <td>NaN</td>\n",
              "      <td>NaN</td>\n",
              "      <td>NaN</td>\n",
              "      <td>NaN</td>\n",
              "    </tr>\n",
              "    <tr>\n",
              "      <th>184779</th>\n",
              "      <td>NaN</td>\n",
              "      <td>NaN</td>\n",
              "      <td>NaN</td>\n",
              "      <td>NaN</td>\n",
              "      <td>NaN</td>\n",
              "      <td>NaN</td>\n",
              "    </tr>\n",
              "    <tr>\n",
              "      <th>185239</th>\n",
              "      <td>NaN</td>\n",
              "      <td>NaN</td>\n",
              "      <td>NaN</td>\n",
              "      <td>NaN</td>\n",
              "      <td>NaN</td>\n",
              "      <td>NaN</td>\n",
              "    </tr>\n",
              "    <tr>\n",
              "      <th>185614</th>\n",
              "      <td>NaN</td>\n",
              "      <td>NaN</td>\n",
              "      <td>NaN</td>\n",
              "      <td>NaN</td>\n",
              "      <td>NaN</td>\n",
              "      <td>NaN</td>\n",
              "    </tr>\n",
              "    <tr>\n",
              "      <th>185993</th>\n",
              "      <td>NaN</td>\n",
              "      <td>NaN</td>\n",
              "      <td>NaN</td>\n",
              "      <td>NaN</td>\n",
              "      <td>NaN</td>\n",
              "      <td>NaN</td>\n",
              "    </tr>\n",
              "  </tbody>\n",
              "</table>\n",
              "<p>545 rows × 6 columns</p>\n",
              "</div>"
            ],
            "text/plain": [
              "       Order ID Product Quantity Ordered Price Each Order Date Purchase Address\n",
              "75          NaN     NaN              NaN        NaN        NaN              NaN\n",
              "169         NaN     NaN              NaN        NaN        NaN              NaN\n",
              "172         NaN     NaN              NaN        NaN        NaN              NaN\n",
              "1488        NaN     NaN              NaN        NaN        NaN              NaN\n",
              "1517        NaN     NaN              NaN        NaN        NaN              NaN\n",
              "...         ...     ...              ...        ...        ...              ...\n",
              "184390      NaN     NaN              NaN        NaN        NaN              NaN\n",
              "184779      NaN     NaN              NaN        NaN        NaN              NaN\n",
              "185239      NaN     NaN              NaN        NaN        NaN              NaN\n",
              "185614      NaN     NaN              NaN        NaN        NaN              NaN\n",
              "185993      NaN     NaN              NaN        NaN        NaN              NaN\n",
              "\n",
              "[545 rows x 6 columns]"
            ]
          },
          "metadata": {},
          "execution_count": 73
        }
      ]
    },
    {
      "cell_type": "markdown",
      "metadata": {
        "id": "qKmPGJukvU5V"
      },
      "source": [
        "since in this data all columns are null value data amputation will not be a solution so we will remove all those rows where all columns are null values."
      ]
    },
    {
      "cell_type": "code",
      "metadata": {
        "id": "GZ4MPj8Xv3f4"
      },
      "source": [
        "all_data = all_data.drop(all_data[all_data.isnull().all(axis =1)].index)"
      ],
      "execution_count": null,
      "outputs": []
    },
    {
      "cell_type": "code",
      "metadata": {
        "colab": {
          "base_uri": "https://localhost:8080/"
        },
        "id": "iihTeC7KnZmd",
        "outputId": "ab3dda70-3eb0-48e7-f5b4-48fc161c8ceb"
      },
      "source": [
        "all_data.isnull().sum()"
      ],
      "execution_count": null,
      "outputs": [
        {
          "output_type": "execute_result",
          "data": {
            "text/plain": [
              "Order ID            0\n",
              "Product             0\n",
              "Quantity Ordered    0\n",
              "Price Each          0\n",
              "Order Date          0\n",
              "Purchase Address    0\n",
              "dtype: int64"
            ]
          },
          "metadata": {},
          "execution_count": 75
        }
      ]
    },
    {
      "cell_type": "markdown",
      "metadata": {
        "id": "jrL-cSj84mTi"
      },
      "source": [
        "Now since we dont have any null values lets check the datatypes of each column and changed them into their relevent data type acc to ques"
      ]
    },
    {
      "cell_type": "code",
      "metadata": {
        "colab": {
          "base_uri": "https://localhost:8080/"
        },
        "id": "D711QRU441vK",
        "outputId": "29a713a3-61d4-43a7-9776-9b56c1d1a8ac"
      },
      "source": [
        "all_data.dtypes"
      ],
      "execution_count": null,
      "outputs": [
        {
          "output_type": "execute_result",
          "data": {
            "text/plain": [
              "Order ID            object\n",
              "Product             object\n",
              "Quantity Ordered    object\n",
              "Price Each          object\n",
              "Order Date          object\n",
              "Purchase Address    object\n",
              "dtype: object"
            ]
          },
          "metadata": {},
          "execution_count": 76
        }
      ]
    },
    {
      "cell_type": "markdown",
      "metadata": {
        "id": "Bcy00tYKL3Ti"
      },
      "source": [
        "for que 1 we need sales and for that quantity and price should be in integer to calculate sales, so we change there data types from object to integer"
      ]
    },
    {
      "cell_type": "code",
      "metadata": {
        "colab": {
          "base_uri": "https://localhost:8080/",
          "height": 462
        },
        "id": "TG_COWWc3RYF",
        "outputId": "95bedbb1-6f56-481b-83ff-e7ddd2790b58"
      },
      "source": [
        "pd.to_numeric(all_data['Quantity Ordered'], errors='raise')"
      ],
      "execution_count": null,
      "outputs": [
        {
          "output_type": "error",
          "ename": "ValueError",
          "evalue": "ignored",
          "traceback": [
            "\u001b[0;31m---------------------------------------------------------------------------\u001b[0m",
            "\u001b[0;31mValueError\u001b[0m                                Traceback (most recent call last)",
            "\u001b[0;32mpandas/_libs/lib.pyx\u001b[0m in \u001b[0;36mpandas._libs.lib.maybe_convert_numeric\u001b[0;34m()\u001b[0m\n",
            "\u001b[0;31mValueError\u001b[0m: Unable to parse string \"Quantity Ordered\"",
            "\nDuring handling of the above exception, another exception occurred:\n",
            "\u001b[0;31mValueError\u001b[0m                                Traceback (most recent call last)",
            "\u001b[0;32m<ipython-input-77-fc632fed04ae>\u001b[0m in \u001b[0;36m<module>\u001b[0;34m()\u001b[0m\n\u001b[0;32m----> 1\u001b[0;31m \u001b[0mpd\u001b[0m\u001b[0;34m.\u001b[0m\u001b[0mto_numeric\u001b[0m\u001b[0;34m(\u001b[0m\u001b[0mall_data\u001b[0m\u001b[0;34m[\u001b[0m\u001b[0;34m'Quantity Ordered'\u001b[0m\u001b[0;34m]\u001b[0m\u001b[0;34m,\u001b[0m \u001b[0merrors\u001b[0m\u001b[0;34m=\u001b[0m\u001b[0;34m'raise'\u001b[0m\u001b[0;34m)\u001b[0m\u001b[0;34m\u001b[0m\u001b[0;34m\u001b[0m\u001b[0m\n\u001b[0m",
            "\u001b[0;32m/usr/local/lib/python3.7/dist-packages/pandas/core/tools/numeric.py\u001b[0m in \u001b[0;36mto_numeric\u001b[0;34m(arg, errors, downcast)\u001b[0m\n\u001b[1;32m    151\u001b[0m         \u001b[0;32mtry\u001b[0m\u001b[0;34m:\u001b[0m\u001b[0;34m\u001b[0m\u001b[0;34m\u001b[0m\u001b[0m\n\u001b[1;32m    152\u001b[0m             values = lib.maybe_convert_numeric(\n\u001b[0;32m--> 153\u001b[0;31m                 \u001b[0mvalues\u001b[0m\u001b[0;34m,\u001b[0m \u001b[0mset\u001b[0m\u001b[0;34m(\u001b[0m\u001b[0;34m)\u001b[0m\u001b[0;34m,\u001b[0m \u001b[0mcoerce_numeric\u001b[0m\u001b[0;34m=\u001b[0m\u001b[0mcoerce_numeric\u001b[0m\u001b[0;34m\u001b[0m\u001b[0;34m\u001b[0m\u001b[0m\n\u001b[0m\u001b[1;32m    154\u001b[0m             )\n\u001b[1;32m    155\u001b[0m         \u001b[0;32mexcept\u001b[0m \u001b[0;34m(\u001b[0m\u001b[0mValueError\u001b[0m\u001b[0;34m,\u001b[0m \u001b[0mTypeError\u001b[0m\u001b[0;34m)\u001b[0m\u001b[0;34m:\u001b[0m\u001b[0;34m\u001b[0m\u001b[0;34m\u001b[0m\u001b[0m\n",
            "\u001b[0;32mpandas/_libs/lib.pyx\u001b[0m in \u001b[0;36mpandas._libs.lib.maybe_convert_numeric\u001b[0;34m()\u001b[0m\n",
            "\u001b[0;31mValueError\u001b[0m: Unable to parse string \"Quantity Ordered\" at position 1480"
          ]
        }
      ]
    },
    {
      "cell_type": "markdown",
      "metadata": {
        "id": "PG_QGu2I9Eln"
      },
      "source": [
        "looks like there are some string values in 'quantity ordered' column at position 1483 row lets find them"
      ]
    },
    {
      "cell_type": "code",
      "metadata": {
        "colab": {
          "base_uri": "https://localhost:8080/",
          "height": 81
        },
        "id": "8b9D652OxLeq",
        "outputId": "2f2409ca-68c5-40ea-8e1d-fb566f578894"
      },
      "source": [
        "all_data[all_data.index == 1483]"
      ],
      "execution_count": null,
      "outputs": [
        {
          "output_type": "execute_result",
          "data": {
            "text/html": [
              "<div>\n",
              "<style scoped>\n",
              "    .dataframe tbody tr th:only-of-type {\n",
              "        vertical-align: middle;\n",
              "    }\n",
              "\n",
              "    .dataframe tbody tr th {\n",
              "        vertical-align: top;\n",
              "    }\n",
              "\n",
              "    .dataframe thead th {\n",
              "        text-align: right;\n",
              "    }\n",
              "</style>\n",
              "<table border=\"1\" class=\"dataframe\">\n",
              "  <thead>\n",
              "    <tr style=\"text-align: right;\">\n",
              "      <th></th>\n",
              "      <th>Order ID</th>\n",
              "      <th>Product</th>\n",
              "      <th>Quantity Ordered</th>\n",
              "      <th>Price Each</th>\n",
              "      <th>Order Date</th>\n",
              "      <th>Purchase Address</th>\n",
              "    </tr>\n",
              "  </thead>\n",
              "  <tbody>\n",
              "    <tr>\n",
              "      <th>1483</th>\n",
              "      <td>Order ID</td>\n",
              "      <td>Product</td>\n",
              "      <td>Quantity Ordered</td>\n",
              "      <td>Price Each</td>\n",
              "      <td>Order Date</td>\n",
              "      <td>Purchase Address</td>\n",
              "    </tr>\n",
              "  </tbody>\n",
              "</table>\n",
              "</div>"
            ],
            "text/plain": [
              "      Order ID  Product  ...  Order Date  Purchase Address\n",
              "1483  Order ID  Product  ...  Order Date  Purchase Address\n",
              "\n",
              "[1 rows x 6 columns]"
            ]
          },
          "metadata": {},
          "execution_count": 78
        }
      ]
    },
    {
      "cell_type": "markdown",
      "metadata": {
        "id": "eS-vqX6EAt9M"
      },
      "source": [
        "lets check if there are more rows like this if there are , we will remove them"
      ]
    },
    {
      "cell_type": "code",
      "metadata": {
        "colab": {
          "base_uri": "https://localhost:8080/",
          "height": 422
        },
        "id": "ZSlJRGGuBGJh",
        "outputId": "bfc6b6fa-9805-4a7f-f066-7d711dea43a2"
      },
      "source": [
        "all_data[all_data['Order ID'] == 'Order ID']"
      ],
      "execution_count": null,
      "outputs": [
        {
          "output_type": "execute_result",
          "data": {
            "text/html": [
              "<div>\n",
              "<style scoped>\n",
              "    .dataframe tbody tr th:only-of-type {\n",
              "        vertical-align: middle;\n",
              "    }\n",
              "\n",
              "    .dataframe tbody tr th {\n",
              "        vertical-align: top;\n",
              "    }\n",
              "\n",
              "    .dataframe thead th {\n",
              "        text-align: right;\n",
              "    }\n",
              "</style>\n",
              "<table border=\"1\" class=\"dataframe\">\n",
              "  <thead>\n",
              "    <tr style=\"text-align: right;\">\n",
              "      <th></th>\n",
              "      <th>Order ID</th>\n",
              "      <th>Product</th>\n",
              "      <th>Quantity Ordered</th>\n",
              "      <th>Price Each</th>\n",
              "      <th>Order Date</th>\n",
              "      <th>Purchase Address</th>\n",
              "    </tr>\n",
              "  </thead>\n",
              "  <tbody>\n",
              "    <tr>\n",
              "      <th>1483</th>\n",
              "      <td>Order ID</td>\n",
              "      <td>Product</td>\n",
              "      <td>Quantity Ordered</td>\n",
              "      <td>Price Each</td>\n",
              "      <td>Order Date</td>\n",
              "      <td>Purchase Address</td>\n",
              "    </tr>\n",
              "    <tr>\n",
              "      <th>1904</th>\n",
              "      <td>Order ID</td>\n",
              "      <td>Product</td>\n",
              "      <td>Quantity Ordered</td>\n",
              "      <td>Price Each</td>\n",
              "      <td>Order Date</td>\n",
              "      <td>Purchase Address</td>\n",
              "    </tr>\n",
              "    <tr>\n",
              "      <th>2050</th>\n",
              "      <td>Order ID</td>\n",
              "      <td>Product</td>\n",
              "      <td>Quantity Ordered</td>\n",
              "      <td>Price Each</td>\n",
              "      <td>Order Date</td>\n",
              "      <td>Purchase Address</td>\n",
              "    </tr>\n",
              "    <tr>\n",
              "      <th>2225</th>\n",
              "      <td>Order ID</td>\n",
              "      <td>Product</td>\n",
              "      <td>Quantity Ordered</td>\n",
              "      <td>Price Each</td>\n",
              "      <td>Order Date</td>\n",
              "      <td>Purchase Address</td>\n",
              "    </tr>\n",
              "    <tr>\n",
              "      <th>3091</th>\n",
              "      <td>Order ID</td>\n",
              "      <td>Product</td>\n",
              "      <td>Quantity Ordered</td>\n",
              "      <td>Price Each</td>\n",
              "      <td>Order Date</td>\n",
              "      <td>Purchase Address</td>\n",
              "    </tr>\n",
              "    <tr>\n",
              "      <th>...</th>\n",
              "      <td>...</td>\n",
              "      <td>...</td>\n",
              "      <td>...</td>\n",
              "      <td>...</td>\n",
              "      <td>...</td>\n",
              "      <td>...</td>\n",
              "    </tr>\n",
              "    <tr>\n",
              "      <th>184502</th>\n",
              "      <td>Order ID</td>\n",
              "      <td>Product</td>\n",
              "      <td>Quantity Ordered</td>\n",
              "      <td>Price Each</td>\n",
              "      <td>Order Date</td>\n",
              "      <td>Purchase Address</td>\n",
              "    </tr>\n",
              "    <tr>\n",
              "      <th>184542</th>\n",
              "      <td>Order ID</td>\n",
              "      <td>Product</td>\n",
              "      <td>Quantity Ordered</td>\n",
              "      <td>Price Each</td>\n",
              "      <td>Order Date</td>\n",
              "      <td>Purchase Address</td>\n",
              "    </tr>\n",
              "    <tr>\n",
              "      <th>185088</th>\n",
              "      <td>Order ID</td>\n",
              "      <td>Product</td>\n",
              "      <td>Quantity Ordered</td>\n",
              "      <td>Price Each</td>\n",
              "      <td>Order Date</td>\n",
              "      <td>Purchase Address</td>\n",
              "    </tr>\n",
              "    <tr>\n",
              "      <th>185359</th>\n",
              "      <td>Order ID</td>\n",
              "      <td>Product</td>\n",
              "      <td>Quantity Ordered</td>\n",
              "      <td>Price Each</td>\n",
              "      <td>Order Date</td>\n",
              "      <td>Purchase Address</td>\n",
              "    </tr>\n",
              "    <tr>\n",
              "      <th>186774</th>\n",
              "      <td>Order ID</td>\n",
              "      <td>Product</td>\n",
              "      <td>Quantity Ordered</td>\n",
              "      <td>Price Each</td>\n",
              "      <td>Order Date</td>\n",
              "      <td>Purchase Address</td>\n",
              "    </tr>\n",
              "  </tbody>\n",
              "</table>\n",
              "<p>355 rows × 6 columns</p>\n",
              "</div>"
            ],
            "text/plain": [
              "        Order ID  Product  ...  Order Date  Purchase Address\n",
              "1483    Order ID  Product  ...  Order Date  Purchase Address\n",
              "1904    Order ID  Product  ...  Order Date  Purchase Address\n",
              "2050    Order ID  Product  ...  Order Date  Purchase Address\n",
              "2225    Order ID  Product  ...  Order Date  Purchase Address\n",
              "3091    Order ID  Product  ...  Order Date  Purchase Address\n",
              "...          ...      ...  ...         ...               ...\n",
              "184502  Order ID  Product  ...  Order Date  Purchase Address\n",
              "184542  Order ID  Product  ...  Order Date  Purchase Address\n",
              "185088  Order ID  Product  ...  Order Date  Purchase Address\n",
              "185359  Order ID  Product  ...  Order Date  Purchase Address\n",
              "186774  Order ID  Product  ...  Order Date  Purchase Address\n",
              "\n",
              "[355 rows x 6 columns]"
            ]
          },
          "metadata": {},
          "execution_count": 79
        }
      ]
    },
    {
      "cell_type": "markdown",
      "metadata": {
        "id": "xix5dHUDBQj0"
      },
      "source": [
        "so there are total 355 rows bogus rows we will remove them "
      ]
    },
    {
      "cell_type": "code",
      "metadata": {
        "id": "X05_iqt9Bcys"
      },
      "source": [
        "all_data = all_data.drop(all_data[all_data['Order ID'] == 'Order ID'].index)"
      ],
      "execution_count": null,
      "outputs": []
    },
    {
      "cell_type": "markdown",
      "metadata": {
        "id": "5HdpHQ_NBszs"
      },
      "source": [
        "cool now all such rows are deleted lets change the data type of columns we need"
      ]
    },
    {
      "cell_type": "code",
      "metadata": {
        "colab": {
          "base_uri": "https://localhost:8080/",
          "height": 49
        },
        "id": "VbZcGW8IBqs8",
        "outputId": "31ae773a-5881-4c95-8065-c2b25237f884"
      },
      "source": [
        "all_data[all_data['Order ID'] == 'Order ID']"
      ],
      "execution_count": null,
      "outputs": [
        {
          "output_type": "execute_result",
          "data": {
            "text/html": [
              "<div>\n",
              "<style scoped>\n",
              "    .dataframe tbody tr th:only-of-type {\n",
              "        vertical-align: middle;\n",
              "    }\n",
              "\n",
              "    .dataframe tbody tr th {\n",
              "        vertical-align: top;\n",
              "    }\n",
              "\n",
              "    .dataframe thead th {\n",
              "        text-align: right;\n",
              "    }\n",
              "</style>\n",
              "<table border=\"1\" class=\"dataframe\">\n",
              "  <thead>\n",
              "    <tr style=\"text-align: right;\">\n",
              "      <th></th>\n",
              "      <th>Order ID</th>\n",
              "      <th>Product</th>\n",
              "      <th>Quantity Ordered</th>\n",
              "      <th>Price Each</th>\n",
              "      <th>Order Date</th>\n",
              "      <th>Purchase Address</th>\n",
              "    </tr>\n",
              "  </thead>\n",
              "  <tbody>\n",
              "  </tbody>\n",
              "</table>\n",
              "</div>"
            ],
            "text/plain": [
              "Empty DataFrame\n",
              "Columns: [Order ID, Product, Quantity Ordered, Price Each, Order Date, Purchase Address]\n",
              "Index: []"
            ]
          },
          "metadata": {},
          "execution_count": 81
        }
      ]
    },
    {
      "cell_type": "code",
      "metadata": {
        "id": "Xkz4vyx8B2Rk"
      },
      "source": [
        "all_data['Quantity Ordered'] = all_data['Quantity Ordered'].astype('int64')\n",
        "all_data['Price Each'] = pd.to_numeric(all_data['Price Each'])\n",
        "all_data['Order Date'] = pd.to_datetime(all_data['Order Date'])"
      ],
      "execution_count": null,
      "outputs": []
    },
    {
      "cell_type": "code",
      "metadata": {
        "colab": {
          "base_uri": "https://localhost:8080/"
        },
        "id": "72pf_Hf2FeIw",
        "outputId": "663866d4-43f1-4ff7-fb07-a0b32322b9d5"
      },
      "source": [
        "all_data.dtypes"
      ],
      "execution_count": null,
      "outputs": [
        {
          "output_type": "execute_result",
          "data": {
            "text/plain": [
              "Order ID                    object\n",
              "Product                     object\n",
              "Quantity Ordered             int64\n",
              "Price Each                 float64\n",
              "Order Date          datetime64[ns]\n",
              "Purchase Address            object\n",
              "dtype: object"
            ]
          },
          "metadata": {},
          "execution_count": 83
        }
      ]
    },
    {
      "cell_type": "markdown",
      "metadata": {
        "id": "IDRqdUgxONZc"
      },
      "source": [
        "for que1 we need sales column"
      ]
    },
    {
      "cell_type": "code",
      "metadata": {
        "id": "bTzXDONEEfH1"
      },
      "source": [
        "all_data['Sales'] = all_data['Quantity Ordered']*all_data['Price Each']"
      ],
      "execution_count": null,
      "outputs": []
    },
    {
      "cell_type": "markdown",
      "metadata": {
        "id": "ig6yPhNZNmaJ"
      },
      "source": [
        "for que2 we can add city column "
      ]
    },
    {
      "cell_type": "code",
      "metadata": {
        "id": "D8ANuScQOe8L"
      },
      "source": [
        "all_data['city'] = all_data['Purchase Address'].apply(lambda x : f\"{x.split(', ')[1]} {x.split(', ')[2].split(' ')[0]}\")"
      ],
      "execution_count": null,
      "outputs": []
    },
    {
      "cell_type": "code",
      "metadata": {
        "colab": {
          "base_uri": "https://localhost:8080/",
          "height": 309
        },
        "id": "9kUUFu2NGgke",
        "outputId": "fc9127aa-2aa1-4aff-f1e1-30720ecd057a"
      },
      "source": [
        "all_data.head()"
      ],
      "execution_count": null,
      "outputs": [
        {
          "output_type": "execute_result",
          "data": {
            "text/html": [
              "<div>\n",
              "<style scoped>\n",
              "    .dataframe tbody tr th:only-of-type {\n",
              "        vertical-align: middle;\n",
              "    }\n",
              "\n",
              "    .dataframe tbody tr th {\n",
              "        vertical-align: top;\n",
              "    }\n",
              "\n",
              "    .dataframe thead th {\n",
              "        text-align: right;\n",
              "    }\n",
              "</style>\n",
              "<table border=\"1\" class=\"dataframe\">\n",
              "  <thead>\n",
              "    <tr style=\"text-align: right;\">\n",
              "      <th></th>\n",
              "      <th>Order ID</th>\n",
              "      <th>Product</th>\n",
              "      <th>Quantity Ordered</th>\n",
              "      <th>Price Each</th>\n",
              "      <th>Order Date</th>\n",
              "      <th>Purchase Address</th>\n",
              "      <th>Sales</th>\n",
              "      <th>city</th>\n",
              "    </tr>\n",
              "  </thead>\n",
              "  <tbody>\n",
              "    <tr>\n",
              "      <th>0</th>\n",
              "      <td>150502</td>\n",
              "      <td>iPhone</td>\n",
              "      <td>1</td>\n",
              "      <td>700.00</td>\n",
              "      <td>2019-02-18 01:35:00</td>\n",
              "      <td>866 Spruce St, Portland, ME 04101</td>\n",
              "      <td>700.00</td>\n",
              "      <td>Portland ME</td>\n",
              "    </tr>\n",
              "    <tr>\n",
              "      <th>1</th>\n",
              "      <td>150503</td>\n",
              "      <td>AA Batteries (4-pack)</td>\n",
              "      <td>1</td>\n",
              "      <td>3.84</td>\n",
              "      <td>2019-02-13 07:24:00</td>\n",
              "      <td>18 13th St, San Francisco, CA 94016</td>\n",
              "      <td>3.84</td>\n",
              "      <td>San Francisco CA</td>\n",
              "    </tr>\n",
              "    <tr>\n",
              "      <th>2</th>\n",
              "      <td>150504</td>\n",
              "      <td>27in 4K Gaming Monitor</td>\n",
              "      <td>1</td>\n",
              "      <td>389.99</td>\n",
              "      <td>2019-02-18 09:46:00</td>\n",
              "      <td>52 6th St, New York City, NY 10001</td>\n",
              "      <td>389.99</td>\n",
              "      <td>New York City NY</td>\n",
              "    </tr>\n",
              "    <tr>\n",
              "      <th>3</th>\n",
              "      <td>150505</td>\n",
              "      <td>Lightning Charging Cable</td>\n",
              "      <td>1</td>\n",
              "      <td>14.95</td>\n",
              "      <td>2019-02-02 16:47:00</td>\n",
              "      <td>129 Cherry St, Atlanta, GA 30301</td>\n",
              "      <td>14.95</td>\n",
              "      <td>Atlanta GA</td>\n",
              "    </tr>\n",
              "    <tr>\n",
              "      <th>4</th>\n",
              "      <td>150506</td>\n",
              "      <td>AA Batteries (4-pack)</td>\n",
              "      <td>2</td>\n",
              "      <td>3.84</td>\n",
              "      <td>2019-02-28 20:32:00</td>\n",
              "      <td>548 Lincoln St, Seattle, WA 98101</td>\n",
              "      <td>7.68</td>\n",
              "      <td>Seattle WA</td>\n",
              "    </tr>\n",
              "  </tbody>\n",
              "</table>\n",
              "</div>"
            ],
            "text/plain": [
              "  Order ID                   Product  ...   Sales              city\n",
              "0   150502                    iPhone  ...  700.00       Portland ME\n",
              "1   150503     AA Batteries (4-pack)  ...    3.84  San Francisco CA\n",
              "2   150504    27in 4K Gaming Monitor  ...  389.99  New York City NY\n",
              "3   150505  Lightning Charging Cable  ...   14.95        Atlanta GA\n",
              "4   150506     AA Batteries (4-pack)  ...    7.68        Seattle WA\n",
              "\n",
              "[5 rows x 8 columns]"
            ]
          },
          "metadata": {},
          "execution_count": 226
        }
      ]
    },
    {
      "cell_type": "markdown",
      "metadata": {
        "id": "Pc9FCvzQLEf6"
      },
      "source": [
        "# Section2"
      ]
    },
    {
      "cell_type": "markdown",
      "metadata": {
        "id": "VlLQBwVGyQLp"
      },
      "source": [
        "\n",
        "### **Que1. What was the best month for sales? How much was earned that month?**"
      ]
    },
    {
      "cell_type": "code",
      "metadata": {
        "colab": {
          "base_uri": "https://localhost:8080/",
          "height": 455
        },
        "id": "pTcZ0w5Sx7jf",
        "outputId": "f622a95f-f2b3-437d-d4de-c0c4701bd9a3"
      },
      "source": [
        "q1 = all_data.groupby(all_data['Order Date'].dt.month).sum()\n",
        "q1"
      ],
      "execution_count": null,
      "outputs": [
        {
          "output_type": "execute_result",
          "data": {
            "text/html": [
              "<div>\n",
              "<style scoped>\n",
              "    .dataframe tbody tr th:only-of-type {\n",
              "        vertical-align: middle;\n",
              "    }\n",
              "\n",
              "    .dataframe tbody tr th {\n",
              "        vertical-align: top;\n",
              "    }\n",
              "\n",
              "    .dataframe thead th {\n",
              "        text-align: right;\n",
              "    }\n",
              "</style>\n",
              "<table border=\"1\" class=\"dataframe\">\n",
              "  <thead>\n",
              "    <tr style=\"text-align: right;\">\n",
              "      <th></th>\n",
              "      <th>Quantity Ordered</th>\n",
              "      <th>Price Each</th>\n",
              "      <th>Sales</th>\n",
              "    </tr>\n",
              "    <tr>\n",
              "      <th>Order Date</th>\n",
              "      <th></th>\n",
              "      <th></th>\n",
              "      <th></th>\n",
              "    </tr>\n",
              "  </thead>\n",
              "  <tbody>\n",
              "    <tr>\n",
              "      <th>1</th>\n",
              "      <td>10903</td>\n",
              "      <td>1.811768e+06</td>\n",
              "      <td>1.822257e+06</td>\n",
              "    </tr>\n",
              "    <tr>\n",
              "      <th>2</th>\n",
              "      <td>13449</td>\n",
              "      <td>2.188885e+06</td>\n",
              "      <td>2.202022e+06</td>\n",
              "    </tr>\n",
              "    <tr>\n",
              "      <th>3</th>\n",
              "      <td>17005</td>\n",
              "      <td>2.791208e+06</td>\n",
              "      <td>2.807100e+06</td>\n",
              "    </tr>\n",
              "    <tr>\n",
              "      <th>4</th>\n",
              "      <td>20558</td>\n",
              "      <td>3.367671e+06</td>\n",
              "      <td>3.390670e+06</td>\n",
              "    </tr>\n",
              "    <tr>\n",
              "      <th>5</th>\n",
              "      <td>18667</td>\n",
              "      <td>3.135125e+06</td>\n",
              "      <td>3.152607e+06</td>\n",
              "    </tr>\n",
              "    <tr>\n",
              "      <th>6</th>\n",
              "      <td>15253</td>\n",
              "      <td>2.562026e+06</td>\n",
              "      <td>2.577802e+06</td>\n",
              "    </tr>\n",
              "    <tr>\n",
              "      <th>7</th>\n",
              "      <td>16072</td>\n",
              "      <td>2.632540e+06</td>\n",
              "      <td>2.647776e+06</td>\n",
              "    </tr>\n",
              "    <tr>\n",
              "      <th>8</th>\n",
              "      <td>13448</td>\n",
              "      <td>2.230345e+06</td>\n",
              "      <td>2.244468e+06</td>\n",
              "    </tr>\n",
              "    <tr>\n",
              "      <th>9</th>\n",
              "      <td>13109</td>\n",
              "      <td>2.084992e+06</td>\n",
              "      <td>2.097560e+06</td>\n",
              "    </tr>\n",
              "    <tr>\n",
              "      <th>10</th>\n",
              "      <td>22703</td>\n",
              "      <td>3.715555e+06</td>\n",
              "      <td>3.736727e+06</td>\n",
              "    </tr>\n",
              "    <tr>\n",
              "      <th>11</th>\n",
              "      <td>19798</td>\n",
              "      <td>3.180601e+06</td>\n",
              "      <td>3.199603e+06</td>\n",
              "    </tr>\n",
              "    <tr>\n",
              "      <th>12</th>\n",
              "      <td>28114</td>\n",
              "      <td>4.588415e+06</td>\n",
              "      <td>4.613443e+06</td>\n",
              "    </tr>\n",
              "  </tbody>\n",
              "</table>\n",
              "</div>"
            ],
            "text/plain": [
              "            Quantity Ordered    Price Each         Sales\n",
              "Order Date                                              \n",
              "1                      10903  1.811768e+06  1.822257e+06\n",
              "2                      13449  2.188885e+06  2.202022e+06\n",
              "3                      17005  2.791208e+06  2.807100e+06\n",
              "4                      20558  3.367671e+06  3.390670e+06\n",
              "5                      18667  3.135125e+06  3.152607e+06\n",
              "6                      15253  2.562026e+06  2.577802e+06\n",
              "7                      16072  2.632540e+06  2.647776e+06\n",
              "8                      13448  2.230345e+06  2.244468e+06\n",
              "9                      13109  2.084992e+06  2.097560e+06\n",
              "10                     22703  3.715555e+06  3.736727e+06\n",
              "11                     19798  3.180601e+06  3.199603e+06\n",
              "12                     28114  4.588415e+06  4.613443e+06"
            ]
          },
          "metadata": {},
          "execution_count": 87
        }
      ]
    },
    {
      "cell_type": "markdown",
      "metadata": {
        "id": "UeAULc7pMWQw"
      },
      "source": [
        "As we can see here in the month of december highest sales has happened of value **4.613*10^6 $**. reason colud be due to festive month and new year sales"
      ]
    },
    {
      "cell_type": "code",
      "metadata": {
        "colab": {
          "base_uri": "https://localhost:8080/",
          "height": 308
        },
        "id": "yi2MI_0rHc1L",
        "outputId": "b18cb2e0-35a6-4081-eee6-246ffd051ddb"
      },
      "source": [
        "sns.barplot( x =q1.index, y = q1['Sales'] )\n",
        "plt.xlabel('Order Date(in months)')"
      ],
      "execution_count": null,
      "outputs": [
        {
          "output_type": "execute_result",
          "data": {
            "text/plain": [
              "Text(0.5, 0, 'Order Date(in months)')"
            ]
          },
          "metadata": {},
          "execution_count": 228
        },
        {
          "output_type": "display_data",
          "data": {
            "image/png": "[encoded data removed]",
            "text/plain": [
              "<Figure size 432x288 with 1 Axes>"
            ]
          },
          "metadata": {
            "needs_background": "light"
          }
        }
      ]
    },
    {
      "cell_type": "markdown",
      "metadata": {
        "id": "JASZAhOXNM6Z"
      },
      "source": [
        "### **Que2. What city sold the most product?**"
      ]
    },
    {
      "cell_type": "code",
      "metadata": {
        "colab": {
          "base_uri": "https://localhost:8080/",
          "height": 393
        },
        "id": "CmLKa5xNNL07",
        "outputId": "68be67ca-59d5-44c1-fa17-9630f9265190"
      },
      "source": [
        "q2 = all_data.groupby(all_data['city']).count()\n",
        "q2"
      ],
      "execution_count": null,
      "outputs": [
        {
          "output_type": "execute_result",
          "data": {
            "text/html": [
              "<div>\n",
              "<style scoped>\n",
              "    .dataframe tbody tr th:only-of-type {\n",
              "        vertical-align: middle;\n",
              "    }\n",
              "\n",
              "    .dataframe tbody tr th {\n",
              "        vertical-align: top;\n",
              "    }\n",
              "\n",
              "    .dataframe thead th {\n",
              "        text-align: right;\n",
              "    }\n",
              "</style>\n",
              "<table border=\"1\" class=\"dataframe\">\n",
              "  <thead>\n",
              "    <tr style=\"text-align: right;\">\n",
              "      <th></th>\n",
              "      <th>Order ID</th>\n",
              "      <th>Product</th>\n",
              "      <th>Quantity Ordered</th>\n",
              "      <th>Price Each</th>\n",
              "      <th>Order Date</th>\n",
              "      <th>Purchase Address</th>\n",
              "      <th>Sales</th>\n",
              "    </tr>\n",
              "    <tr>\n",
              "      <th>city</th>\n",
              "      <th></th>\n",
              "      <th></th>\n",
              "      <th></th>\n",
              "      <th></th>\n",
              "      <th></th>\n",
              "      <th></th>\n",
              "      <th></th>\n",
              "    </tr>\n",
              "  </thead>\n",
              "  <tbody>\n",
              "    <tr>\n",
              "      <th>Atlanta GA</th>\n",
              "      <td>14881</td>\n",
              "      <td>14881</td>\n",
              "      <td>14881</td>\n",
              "      <td>14881</td>\n",
              "      <td>14881</td>\n",
              "      <td>14881</td>\n",
              "      <td>14881</td>\n",
              "    </tr>\n",
              "    <tr>\n",
              "      <th>Austin TX</th>\n",
              "      <td>9905</td>\n",
              "      <td>9905</td>\n",
              "      <td>9905</td>\n",
              "      <td>9905</td>\n",
              "      <td>9905</td>\n",
              "      <td>9905</td>\n",
              "      <td>9905</td>\n",
              "    </tr>\n",
              "    <tr>\n",
              "      <th>Boston MA</th>\n",
              "      <td>19934</td>\n",
              "      <td>19934</td>\n",
              "      <td>19934</td>\n",
              "      <td>19934</td>\n",
              "      <td>19934</td>\n",
              "      <td>19934</td>\n",
              "      <td>19934</td>\n",
              "    </tr>\n",
              "    <tr>\n",
              "      <th>Dallas TX</th>\n",
              "      <td>14820</td>\n",
              "      <td>14820</td>\n",
              "      <td>14820</td>\n",
              "      <td>14820</td>\n",
              "      <td>14820</td>\n",
              "      <td>14820</td>\n",
              "      <td>14820</td>\n",
              "    </tr>\n",
              "    <tr>\n",
              "      <th>Los Angeles CA</th>\n",
              "      <td>29605</td>\n",
              "      <td>29605</td>\n",
              "      <td>29605</td>\n",
              "      <td>29605</td>\n",
              "      <td>29605</td>\n",
              "      <td>29605</td>\n",
              "      <td>29605</td>\n",
              "    </tr>\n",
              "    <tr>\n",
              "      <th>New York City NY</th>\n",
              "      <td>24876</td>\n",
              "      <td>24876</td>\n",
              "      <td>24876</td>\n",
              "      <td>24876</td>\n",
              "      <td>24876</td>\n",
              "      <td>24876</td>\n",
              "      <td>24876</td>\n",
              "    </tr>\n",
              "    <tr>\n",
              "      <th>Portland ME</th>\n",
              "      <td>2455</td>\n",
              "      <td>2455</td>\n",
              "      <td>2455</td>\n",
              "      <td>2455</td>\n",
              "      <td>2455</td>\n",
              "      <td>2455</td>\n",
              "      <td>2455</td>\n",
              "    </tr>\n",
              "    <tr>\n",
              "      <th>Portland OR</th>\n",
              "      <td>10010</td>\n",
              "      <td>10010</td>\n",
              "      <td>10010</td>\n",
              "      <td>10010</td>\n",
              "      <td>10010</td>\n",
              "      <td>10010</td>\n",
              "      <td>10010</td>\n",
              "    </tr>\n",
              "    <tr>\n",
              "      <th>San Francisco CA</th>\n",
              "      <td>44732</td>\n",
              "      <td>44732</td>\n",
              "      <td>44732</td>\n",
              "      <td>44732</td>\n",
              "      <td>44732</td>\n",
              "      <td>44732</td>\n",
              "      <td>44732</td>\n",
              "    </tr>\n",
              "    <tr>\n",
              "      <th>Seattle WA</th>\n",
              "      <td>14732</td>\n",
              "      <td>14732</td>\n",
              "      <td>14732</td>\n",
              "      <td>14732</td>\n",
              "      <td>14732</td>\n",
              "      <td>14732</td>\n",
              "      <td>14732</td>\n",
              "    </tr>\n",
              "  </tbody>\n",
              "</table>\n",
              "</div>"
            ],
            "text/plain": [
              "                  Order ID  Product  ...  Purchase Address  Sales\n",
              "city                                 ...                         \n",
              "Atlanta GA           14881    14881  ...             14881  14881\n",
              "Austin TX             9905     9905  ...              9905   9905\n",
              "Boston MA            19934    19934  ...             19934  19934\n",
              "Dallas TX            14820    14820  ...             14820  14820\n",
              "Los Angeles CA       29605    29605  ...             29605  29605\n",
              "New York City NY     24876    24876  ...             24876  24876\n",
              "Portland ME           2455     2455  ...              2455   2455\n",
              "Portland OR          10010    10010  ...             10010  10010\n",
              "San Francisco CA     44732    44732  ...             44732  44732\n",
              "Seattle WA           14732    14732  ...             14732  14732\n",
              "\n",
              "[10 rows x 7 columns]"
            ]
          },
          "metadata": {},
          "execution_count": 89
        }
      ]
    },
    {
      "cell_type": "code",
      "metadata": {
        "colab": {
          "base_uri": "https://localhost:8080/",
          "height": 391
        },
        "id": "6zhbIRthQtLi",
        "outputId": "61212151-e7f5-4dc7-864d-866e709b13e9"
      },
      "source": [
        "sns.barplot( x =q2.index, y = q2['Quantity Ordered'] )\n",
        "plt.xticks(rotation = 'vertical')"
      ],
      "execution_count": null,
      "outputs": [
        {
          "output_type": "execute_result",
          "data": {
            "text/plain": [
              "(array([0, 1, 2, 3, 4, 5, 6, 7, 8, 9]),\n",
              " <a list of 10 Text major ticklabel objects>)"
            ]
          },
          "metadata": {},
          "execution_count": 90
        },
        {
          "output_type": "display_data",
          "data": {
            "image/png": "[encoded data removed]",
            "text/plain": [
              "<Figure size 432x288 with 1 Axes>"
            ]
          },
          "metadata": {
            "needs_background": "light"
          }
        }
      ]
    },
    {
      "cell_type": "markdown",
      "metadata": {
        "id": "2Tx9GjSxEEy9"
      },
      "source": [
        "As we can see San Fancisco CA city sold the most product."
      ]
    },
    {
      "cell_type": "markdown",
      "metadata": {
        "id": "WBIZt-3QRk-x"
      },
      "source": [
        "### **Que3. What time should we display advertisements to maximize the likelihood of customer’s buying product?**"
      ]
    },
    {
      "cell_type": "code",
      "metadata": {
        "colab": {
          "base_uri": "https://localhost:8080/",
          "height": 236
        },
        "id": "Zts3_w5CRkCb",
        "outputId": "ea68d303-d8f3-4c95-c1f3-7bc07d6a4423"
      },
      "source": [
        "q3 = all_data.groupby(all_data['Order Date'].dt.hour).count()\n",
        "q3.head()"
      ],
      "execution_count": null,
      "outputs": [
        {
          "output_type": "execute_result",
          "data": {
            "text/html": [
              "<div>\n",
              "<style scoped>\n",
              "    .dataframe tbody tr th:only-of-type {\n",
              "        vertical-align: middle;\n",
              "    }\n",
              "\n",
              "    .dataframe tbody tr th {\n",
              "        vertical-align: top;\n",
              "    }\n",
              "\n",
              "    .dataframe thead th {\n",
              "        text-align: right;\n",
              "    }\n",
              "</style>\n",
              "<table border=\"1\" class=\"dataframe\">\n",
              "  <thead>\n",
              "    <tr style=\"text-align: right;\">\n",
              "      <th></th>\n",
              "      <th>Order ID</th>\n",
              "      <th>Product</th>\n",
              "      <th>Quantity Ordered</th>\n",
              "      <th>Price Each</th>\n",
              "      <th>Order Date</th>\n",
              "      <th>Purchase Address</th>\n",
              "      <th>Sales</th>\n",
              "      <th>city</th>\n",
              "    </tr>\n",
              "    <tr>\n",
              "      <th>Order Date</th>\n",
              "      <th></th>\n",
              "      <th></th>\n",
              "      <th></th>\n",
              "      <th></th>\n",
              "      <th></th>\n",
              "      <th></th>\n",
              "      <th></th>\n",
              "      <th></th>\n",
              "    </tr>\n",
              "  </thead>\n",
              "  <tbody>\n",
              "    <tr>\n",
              "      <th>0</th>\n",
              "      <td>3910</td>\n",
              "      <td>3910</td>\n",
              "      <td>3910</td>\n",
              "      <td>3910</td>\n",
              "      <td>3910</td>\n",
              "      <td>3910</td>\n",
              "      <td>3910</td>\n",
              "      <td>3910</td>\n",
              "    </tr>\n",
              "    <tr>\n",
              "      <th>1</th>\n",
              "      <td>2350</td>\n",
              "      <td>2350</td>\n",
              "      <td>2350</td>\n",
              "      <td>2350</td>\n",
              "      <td>2350</td>\n",
              "      <td>2350</td>\n",
              "      <td>2350</td>\n",
              "      <td>2350</td>\n",
              "    </tr>\n",
              "    <tr>\n",
              "      <th>2</th>\n",
              "      <td>1243</td>\n",
              "      <td>1243</td>\n",
              "      <td>1243</td>\n",
              "      <td>1243</td>\n",
              "      <td>1243</td>\n",
              "      <td>1243</td>\n",
              "      <td>1243</td>\n",
              "      <td>1243</td>\n",
              "    </tr>\n",
              "    <tr>\n",
              "      <th>3</th>\n",
              "      <td>831</td>\n",
              "      <td>831</td>\n",
              "      <td>831</td>\n",
              "      <td>831</td>\n",
              "      <td>831</td>\n",
              "      <td>831</td>\n",
              "      <td>831</td>\n",
              "      <td>831</td>\n",
              "    </tr>\n",
              "    <tr>\n",
              "      <th>4</th>\n",
              "      <td>854</td>\n",
              "      <td>854</td>\n",
              "      <td>854</td>\n",
              "      <td>854</td>\n",
              "      <td>854</td>\n",
              "      <td>854</td>\n",
              "      <td>854</td>\n",
              "      <td>854</td>\n",
              "    </tr>\n",
              "  </tbody>\n",
              "</table>\n",
              "</div>"
            ],
            "text/plain": [
              "            Order ID  Product  Quantity Ordered  ...  Purchase Address  Sales  city\n",
              "Order Date                                       ...                               \n",
              "0               3910     3910              3910  ...              3910   3910  3910\n",
              "1               2350     2350              2350  ...              2350   2350  2350\n",
              "2               1243     1243              1243  ...              1243   1243  1243\n",
              "3                831      831               831  ...               831    831   831\n",
              "4                854      854               854  ...               854    854   854\n",
              "\n",
              "[5 rows x 8 columns]"
            ]
          },
          "metadata": {},
          "execution_count": 91
        }
      ]
    },
    {
      "cell_type": "code",
      "metadata": {
        "colab": {
          "base_uri": "https://localhost:8080/",
          "height": 279
        },
        "id": "SuXLJIG7SNAL",
        "outputId": "753f4733-008e-4134-b94a-b8e32c9a560d"
      },
      "source": [
        "sns.lineplot( x =q3.index, y = q3['Quantity Ordered'] )\n",
        "plt.xticks(np.arange(min(q3.index), max(q3.index)+1, 1.0))\n",
        "plt.grid()\n",
        "plt.show()"
      ],
      "execution_count": null,
      "outputs": [
        {
          "output_type": "display_data",
          "data": {
            "image/png": "[encoded data removed]",
            "text/plain": [
              "<Figure size 432x288 with 1 Axes>"
            ]
          },
          "metadata": {
            "needs_background": "light"
          }
        }
      ]
    },
    {
      "cell_type": "markdown",
      "metadata": {
        "id": "w9LMxSP9EloV"
      },
      "source": [
        "The best time to display advertisements to maximize the likelihood of customer’s buying product is around 12 Noon and 7 pm evening."
      ]
    },
    {
      "cell_type": "markdown",
      "metadata": {
        "id": "9mBV089ZtL34"
      },
      "source": [
        "### **Que4. What products are most often sold together?**"
      ]
    },
    {
      "cell_type": "code",
      "metadata": {
        "colab": {
          "base_uri": "https://localhost:8080/",
          "height": 715
        },
        "id": "byBdLvpwtIer",
        "outputId": "949fad6c-9ef0-4339-a1dc-d5c9bed9f1fd"
      },
      "source": [
        "q4 = all_data[all_data['Order ID'].duplicated(keep = False)]\n",
        "q4"
      ],
      "execution_count": null,
      "outputs": [
        {
          "output_type": "execute_result",
          "data": {
            "text/html": [
              "<div>\n",
              "<style scoped>\n",
              "    .dataframe tbody tr th:only-of-type {\n",
              "        vertical-align: middle;\n",
              "    }\n",
              "\n",
              "    .dataframe tbody tr th {\n",
              "        vertical-align: top;\n",
              "    }\n",
              "\n",
              "    .dataframe thead th {\n",
              "        text-align: right;\n",
              "    }\n",
              "</style>\n",
              "<table border=\"1\" class=\"dataframe\">\n",
              "  <thead>\n",
              "    <tr style=\"text-align: right;\">\n",
              "      <th></th>\n",
              "      <th>Order ID</th>\n",
              "      <th>Product</th>\n",
              "      <th>Quantity Ordered</th>\n",
              "      <th>Price Each</th>\n",
              "      <th>Order Date</th>\n",
              "      <th>Purchase Address</th>\n",
              "      <th>Sales</th>\n",
              "      <th>city</th>\n",
              "    </tr>\n",
              "  </thead>\n",
              "  <tbody>\n",
              "    <tr>\n",
              "      <th>16</th>\n",
              "      <td>150518</td>\n",
              "      <td>Macbook Pro Laptop</td>\n",
              "      <td>1</td>\n",
              "      <td>1700.00</td>\n",
              "      <td>2019-02-26 12:38:00</td>\n",
              "      <td>847 10th St, San Francisco, CA 94016</td>\n",
              "      <td>1700.00</td>\n",
              "      <td>San Francisco CA</td>\n",
              "    </tr>\n",
              "    <tr>\n",
              "      <th>17</th>\n",
              "      <td>150518</td>\n",
              "      <td>iPhone</td>\n",
              "      <td>1</td>\n",
              "      <td>700.00</td>\n",
              "      <td>2019-02-26 12:38:00</td>\n",
              "      <td>847 10th St, San Francisco, CA 94016</td>\n",
              "      <td>700.00</td>\n",
              "      <td>San Francisco CA</td>\n",
              "    </tr>\n",
              "    <tr>\n",
              "      <th>82</th>\n",
              "      <td>150582</td>\n",
              "      <td>iPhone</td>\n",
              "      <td>1</td>\n",
              "      <td>700.00</td>\n",
              "      <td>2019-02-16 23:38:00</td>\n",
              "      <td>678 Maple St, Seattle, WA 98101</td>\n",
              "      <td>700.00</td>\n",
              "      <td>Seattle WA</td>\n",
              "    </tr>\n",
              "    <tr>\n",
              "      <th>83</th>\n",
              "      <td>150582</td>\n",
              "      <td>Lightning Charging Cable</td>\n",
              "      <td>1</td>\n",
              "      <td>14.95</td>\n",
              "      <td>2019-02-16 23:38:00</td>\n",
              "      <td>678 Maple St, Seattle, WA 98101</td>\n",
              "      <td>14.95</td>\n",
              "      <td>Seattle WA</td>\n",
              "    </tr>\n",
              "    <tr>\n",
              "      <th>91</th>\n",
              "      <td>150590</td>\n",
              "      <td>Apple Airpods Headphones</td>\n",
              "      <td>1</td>\n",
              "      <td>150.00</td>\n",
              "      <td>2019-02-08 09:35:00</td>\n",
              "      <td>196 River St, San Francisco, CA 94016</td>\n",
              "      <td>150.00</td>\n",
              "      <td>San Francisco CA</td>\n",
              "    </tr>\n",
              "    <tr>\n",
              "      <th>...</th>\n",
              "      <td>...</td>\n",
              "      <td>...</td>\n",
              "      <td>...</td>\n",
              "      <td>...</td>\n",
              "      <td>...</td>\n",
              "      <td>...</td>\n",
              "      <td>...</td>\n",
              "      <td>...</td>\n",
              "    </tr>\n",
              "    <tr>\n",
              "      <th>186756</th>\n",
              "      <td>278706</td>\n",
              "      <td>USB-C Charging Cable</td>\n",
              "      <td>1</td>\n",
              "      <td>11.95</td>\n",
              "      <td>2019-10-07 18:18:00</td>\n",
              "      <td>942 11th St, San Francisco, CA 94016</td>\n",
              "      <td>11.95</td>\n",
              "      <td>San Francisco CA</td>\n",
              "    </tr>\n",
              "    <tr>\n",
              "      <th>186760</th>\n",
              "      <td>278710</td>\n",
              "      <td>USB-C Charging Cable</td>\n",
              "      <td>1</td>\n",
              "      <td>11.95</td>\n",
              "      <td>2019-10-13 19:05:00</td>\n",
              "      <td>183 5th St, San Francisco, CA 94016</td>\n",
              "      <td>11.95</td>\n",
              "      <td>San Francisco CA</td>\n",
              "    </tr>\n",
              "    <tr>\n",
              "      <th>186761</th>\n",
              "      <td>278710</td>\n",
              "      <td>27in FHD Monitor</td>\n",
              "      <td>1</td>\n",
              "      <td>149.99</td>\n",
              "      <td>2019-10-13 19:05:00</td>\n",
              "      <td>183 5th St, San Francisco, CA 94016</td>\n",
              "      <td>149.99</td>\n",
              "      <td>San Francisco CA</td>\n",
              "    </tr>\n",
              "    <tr>\n",
              "      <th>186769</th>\n",
              "      <td>278718</td>\n",
              "      <td>USB-C Charging Cable</td>\n",
              "      <td>1</td>\n",
              "      <td>11.95</td>\n",
              "      <td>2019-10-13 12:45:00</td>\n",
              "      <td>479 Lincoln St, Atlanta, GA 30301</td>\n",
              "      <td>11.95</td>\n",
              "      <td>Atlanta GA</td>\n",
              "    </tr>\n",
              "    <tr>\n",
              "      <th>186770</th>\n",
              "      <td>278718</td>\n",
              "      <td>Bose SoundSport Headphones</td>\n",
              "      <td>1</td>\n",
              "      <td>99.99</td>\n",
              "      <td>2019-10-13 12:45:00</td>\n",
              "      <td>479 Lincoln St, Atlanta, GA 30301</td>\n",
              "      <td>99.99</td>\n",
              "      <td>Atlanta GA</td>\n",
              "    </tr>\n",
              "  </tbody>\n",
              "</table>\n",
              "<p>14649 rows × 8 columns</p>\n",
              "</div>"
            ],
            "text/plain": [
              "       Order ID                     Product  ...    Sales              city\n",
              "16       150518          Macbook Pro Laptop  ...  1700.00  San Francisco CA\n",
              "17       150518                      iPhone  ...   700.00  San Francisco CA\n",
              "82       150582                      iPhone  ...   700.00        Seattle WA\n",
              "83       150582    Lightning Charging Cable  ...    14.95        Seattle WA\n",
              "91       150590    Apple Airpods Headphones  ...   150.00  San Francisco CA\n",
              "...         ...                         ...  ...      ...               ...\n",
              "186756   278706        USB-C Charging Cable  ...    11.95  San Francisco CA\n",
              "186760   278710        USB-C Charging Cable  ...    11.95  San Francisco CA\n",
              "186761   278710            27in FHD Monitor  ...   149.99  San Francisco CA\n",
              "186769   278718        USB-C Charging Cable  ...    11.95        Atlanta GA\n",
              "186770   278718  Bose SoundSport Headphones  ...    99.99        Atlanta GA\n",
              "\n",
              "[14649 rows x 8 columns]"
            ]
          },
          "metadata": {},
          "execution_count": 131
        }
      ]
    },
    {
      "cell_type": "code",
      "metadata": {
        "colab": {
          "base_uri": "https://localhost:8080/",
          "height": 551
        },
        "id": "zj3_dd2pw6tH",
        "outputId": "090e1bbf-bef4-4b46-d82e-211b3d5623e3"
      },
      "source": [
        "q4['Grouped'] = q4.groupby('Order ID')['Product'].transform(lambda x : ', '.join(x))\n",
        "q4 = q4[['Order ID','Grouped']].drop_duplicates()\n",
        "q4"
      ],
      "execution_count": null,
      "outputs": [
        {
          "output_type": "stream",
          "name": "stderr",
          "text": [
            "/usr/local/lib/python3.7/dist-packages/ipykernel_launcher.py:1: SettingWithCopyWarning: \n",
            "A value is trying to be set on a copy of a slice from a DataFrame.\n",
            "Try using .loc[row_indexer,col_indexer] = value instead\n",
            "\n",
            "See the caveats in the documentation: https://pandas.pydata.org/pandas-docs/stable/user_guide/indexing.html#returning-a-view-versus-a-copy\n",
            "  \"\"\"Entry point for launching an IPython kernel.\n"
          ]
        },
        {
          "output_type": "execute_result",
          "data": {
            "text/html": [
              "<div>\n",
              "<style scoped>\n",
              "    .dataframe tbody tr th:only-of-type {\n",
              "        vertical-align: middle;\n",
              "    }\n",
              "\n",
              "    .dataframe tbody tr th {\n",
              "        vertical-align: top;\n",
              "    }\n",
              "\n",
              "    .dataframe thead th {\n",
              "        text-align: right;\n",
              "    }\n",
              "</style>\n",
              "<table border=\"1\" class=\"dataframe\">\n",
              "  <thead>\n",
              "    <tr style=\"text-align: right;\">\n",
              "      <th></th>\n",
              "      <th>Order ID</th>\n",
              "      <th>Grouped</th>\n",
              "    </tr>\n",
              "  </thead>\n",
              "  <tbody>\n",
              "    <tr>\n",
              "      <th>16</th>\n",
              "      <td>150518</td>\n",
              "      <td>Macbook Pro Laptop, iPhone</td>\n",
              "    </tr>\n",
              "    <tr>\n",
              "      <th>82</th>\n",
              "      <td>150582</td>\n",
              "      <td>iPhone, Lightning Charging Cable</td>\n",
              "    </tr>\n",
              "    <tr>\n",
              "      <th>91</th>\n",
              "      <td>150590</td>\n",
              "      <td>Apple Airpods Headphones, AAA Batteries (4-pack)</td>\n",
              "    </tr>\n",
              "    <tr>\n",
              "      <th>119</th>\n",
              "      <td>150617</td>\n",
              "      <td>Google Phone, USB-C Charging Cable</td>\n",
              "    </tr>\n",
              "    <tr>\n",
              "      <th>154</th>\n",
              "      <td>150651</td>\n",
              "      <td>Google Phone, USB-C Charging Cable</td>\n",
              "    </tr>\n",
              "    <tr>\n",
              "      <th>...</th>\n",
              "      <td>...</td>\n",
              "      <td>...</td>\n",
              "    </tr>\n",
              "    <tr>\n",
              "      <th>186700</th>\n",
              "      <td>278653</td>\n",
              "      <td>iPhone, Lightning Charging Cable</td>\n",
              "    </tr>\n",
              "    <tr>\n",
              "      <th>186745</th>\n",
              "      <td>278697</td>\n",
              "      <td>Wired Headphones, 27in 4K Gaming Monitor</td>\n",
              "    </tr>\n",
              "    <tr>\n",
              "      <th>186755</th>\n",
              "      <td>278706</td>\n",
              "      <td>Google Phone, USB-C Charging Cable</td>\n",
              "    </tr>\n",
              "    <tr>\n",
              "      <th>186760</th>\n",
              "      <td>278710</td>\n",
              "      <td>USB-C Charging Cable, 27in FHD Monitor</td>\n",
              "    </tr>\n",
              "    <tr>\n",
              "      <th>186769</th>\n",
              "      <td>278718</td>\n",
              "      <td>USB-C Charging Cable, Bose SoundSport Headphones</td>\n",
              "    </tr>\n",
              "  </tbody>\n",
              "</table>\n",
              "<p>7136 rows × 2 columns</p>\n",
              "</div>"
            ],
            "text/plain": [
              "       Order ID                                           Grouped\n",
              "16       150518                        Macbook Pro Laptop, iPhone\n",
              "82       150582                  iPhone, Lightning Charging Cable\n",
              "91       150590  Apple Airpods Headphones, AAA Batteries (4-pack)\n",
              "119      150617                Google Phone, USB-C Charging Cable\n",
              "154      150651                Google Phone, USB-C Charging Cable\n",
              "...         ...                                               ...\n",
              "186700   278653                  iPhone, Lightning Charging Cable\n",
              "186745   278697          Wired Headphones, 27in 4K Gaming Monitor\n",
              "186755   278706                Google Phone, USB-C Charging Cable\n",
              "186760   278710            USB-C Charging Cable, 27in FHD Monitor\n",
              "186769   278718  USB-C Charging Cable, Bose SoundSport Headphones\n",
              "\n",
              "[7136 rows x 2 columns]"
            ]
          },
          "metadata": {},
          "execution_count": 132
        }
      ]
    },
    {
      "cell_type": "code",
      "metadata": {
        "colab": {
          "base_uri": "https://localhost:8080/",
          "height": 422
        },
        "id": "l5iOF3ya1JsH",
        "outputId": "30b6d115-8e25-47f2-b9bb-40a32079e1b7"
      },
      "source": [
        "count = Counter()\n",
        "for row in q4['Grouped']:\n",
        "  lst = row.split(', ')\n",
        "  count.update(Counter(combinations(lst,2)))\n",
        "\n",
        "pd.DataFrame(count.most_common())\n"
      ],
      "execution_count": null,
      "outputs": [
        {
          "output_type": "execute_result",
          "data": {
            "text/html": [
              "<div>\n",
              "<style scoped>\n",
              "    .dataframe tbody tr th:only-of-type {\n",
              "        vertical-align: middle;\n",
              "    }\n",
              "\n",
              "    .dataframe tbody tr th {\n",
              "        vertical-align: top;\n",
              "    }\n",
              "\n",
              "    .dataframe thead th {\n",
              "        text-align: right;\n",
              "    }\n",
              "</style>\n",
              "<table border=\"1\" class=\"dataframe\">\n",
              "  <thead>\n",
              "    <tr style=\"text-align: right;\">\n",
              "      <th></th>\n",
              "      <th>0</th>\n",
              "      <th>1</th>\n",
              "    </tr>\n",
              "  </thead>\n",
              "  <tbody>\n",
              "    <tr>\n",
              "      <th>0</th>\n",
              "      <td>(iPhone, Lightning Charging Cable)</td>\n",
              "      <td>1005</td>\n",
              "    </tr>\n",
              "    <tr>\n",
              "      <th>1</th>\n",
              "      <td>(Google Phone, USB-C Charging Cable)</td>\n",
              "      <td>987</td>\n",
              "    </tr>\n",
              "    <tr>\n",
              "      <th>2</th>\n",
              "      <td>(iPhone, Wired Headphones)</td>\n",
              "      <td>447</td>\n",
              "    </tr>\n",
              "    <tr>\n",
              "      <th>3</th>\n",
              "      <td>(Google Phone, Wired Headphones)</td>\n",
              "      <td>414</td>\n",
              "    </tr>\n",
              "    <tr>\n",
              "      <th>4</th>\n",
              "      <td>(Vareebadd Phone, USB-C Charging Cable)</td>\n",
              "      <td>361</td>\n",
              "    </tr>\n",
              "    <tr>\n",
              "      <th>...</th>\n",
              "      <td>...</td>\n",
              "      <td>...</td>\n",
              "    </tr>\n",
              "    <tr>\n",
              "      <th>308</th>\n",
              "      <td>(LG Dryer, AAA Batteries (4-pack))</td>\n",
              "      <td>1</td>\n",
              "    </tr>\n",
              "    <tr>\n",
              "      <th>309</th>\n",
              "      <td>(ThinkPad Laptop, 34in Ultrawide Monitor)</td>\n",
              "      <td>1</td>\n",
              "    </tr>\n",
              "    <tr>\n",
              "      <th>310</th>\n",
              "      <td>(iPhone, LG Washing Machine)</td>\n",
              "      <td>1</td>\n",
              "    </tr>\n",
              "    <tr>\n",
              "      <th>311</th>\n",
              "      <td>(AAA Batteries (4-pack), LG Dryer)</td>\n",
              "      <td>1</td>\n",
              "    </tr>\n",
              "    <tr>\n",
              "      <th>312</th>\n",
              "      <td>(LG Dryer, 27in 4K Gaming Monitor)</td>\n",
              "      <td>1</td>\n",
              "    </tr>\n",
              "  </tbody>\n",
              "</table>\n",
              "<p>313 rows × 2 columns</p>\n",
              "</div>"
            ],
            "text/plain": [
              "                                             0     1\n",
              "0           (iPhone, Lightning Charging Cable)  1005\n",
              "1         (Google Phone, USB-C Charging Cable)   987\n",
              "2                   (iPhone, Wired Headphones)   447\n",
              "3             (Google Phone, Wired Headphones)   414\n",
              "4      (Vareebadd Phone, USB-C Charging Cable)   361\n",
              "..                                         ...   ...\n",
              "308         (LG Dryer, AAA Batteries (4-pack))     1\n",
              "309  (ThinkPad Laptop, 34in Ultrawide Monitor)     1\n",
              "310               (iPhone, LG Washing Machine)     1\n",
              "311         (AAA Batteries (4-pack), LG Dryer)     1\n",
              "312         (LG Dryer, 27in 4K Gaming Monitor)     1\n",
              "\n",
              "[313 rows x 2 columns]"
            ]
          },
          "metadata": {},
          "execution_count": 225
        }
      ]
    },
    {
      "cell_type": "markdown",
      "metadata": {
        "id": "Lm8Mcf8_JxII"
      },
      "source": [
        "As we can see (iPhone + Lightning Charging Cable) product is most often sold together."
      ]
    },
    {
      "cell_type": "markdown",
      "metadata": {
        "id": "32m0hjxW7HiD"
      },
      "source": [
        "### **Que5. What product sold the most? Why do you think it sold the most?**"
      ]
    },
    {
      "cell_type": "code",
      "metadata": {
        "colab": {
          "base_uri": "https://localhost:8080/",
          "height": 236
        },
        "id": "F3bvp1I_5tYx",
        "outputId": "ff3c2125-52aa-449c-af50-6d9d53b4c79f"
      },
      "source": [
        "q5 = all_data.groupby('Product').sum()\n",
        "q5.head()"
      ],
      "execution_count": null,
      "outputs": [
        {
          "output_type": "execute_result",
          "data": {
            "text/html": [
              "<div>\n",
              "<style scoped>\n",
              "    .dataframe tbody tr th:only-of-type {\n",
              "        vertical-align: middle;\n",
              "    }\n",
              "\n",
              "    .dataframe tbody tr th {\n",
              "        vertical-align: top;\n",
              "    }\n",
              "\n",
              "    .dataframe thead th {\n",
              "        text-align: right;\n",
              "    }\n",
              "</style>\n",
              "<table border=\"1\" class=\"dataframe\">\n",
              "  <thead>\n",
              "    <tr style=\"text-align: right;\">\n",
              "      <th></th>\n",
              "      <th>Quantity Ordered</th>\n",
              "      <th>Price Each</th>\n",
              "      <th>Sales</th>\n",
              "    </tr>\n",
              "    <tr>\n",
              "      <th>Product</th>\n",
              "      <th></th>\n",
              "      <th></th>\n",
              "      <th></th>\n",
              "    </tr>\n",
              "  </thead>\n",
              "  <tbody>\n",
              "    <tr>\n",
              "      <th>20in Monitor</th>\n",
              "      <td>4129</td>\n",
              "      <td>451068.99</td>\n",
              "      <td>454148.71</td>\n",
              "    </tr>\n",
              "    <tr>\n",
              "      <th>27in 4K Gaming Monitor</th>\n",
              "      <td>6244</td>\n",
              "      <td>2429637.70</td>\n",
              "      <td>2435097.56</td>\n",
              "    </tr>\n",
              "    <tr>\n",
              "      <th>27in FHD Monitor</th>\n",
              "      <td>7550</td>\n",
              "      <td>1125974.93</td>\n",
              "      <td>1132424.50</td>\n",
              "    </tr>\n",
              "    <tr>\n",
              "      <th>34in Ultrawide Monitor</th>\n",
              "      <td>6199</td>\n",
              "      <td>2348718.19</td>\n",
              "      <td>2355558.01</td>\n",
              "    </tr>\n",
              "    <tr>\n",
              "      <th>AA Batteries (4-pack)</th>\n",
              "      <td>27635</td>\n",
              "      <td>79015.68</td>\n",
              "      <td>106118.40</td>\n",
              "    </tr>\n",
              "  </tbody>\n",
              "</table>\n",
              "</div>"
            ],
            "text/plain": [
              "                        Quantity Ordered  Price Each       Sales\n",
              "Product                                                         \n",
              "20in Monitor                        4129   451068.99   454148.71\n",
              "27in 4K Gaming Monitor              6244  2429637.70  2435097.56\n",
              "27in FHD Monitor                    7550  1125974.93  1132424.50\n",
              "34in Ultrawide Monitor              6199  2348718.19  2355558.01\n",
              "AA Batteries (4-pack)              27635    79015.68   106118.40"
            ]
          },
          "metadata": {},
          "execution_count": 157
        }
      ]
    },
    {
      "cell_type": "code",
      "metadata": {
        "colab": {
          "base_uri": "https://localhost:8080/",
          "height": 438
        },
        "id": "wiuiNZUA8ZLr",
        "outputId": "b7dbfd8f-d7ea-4872-bc98-c79bce5c1a76"
      },
      "source": [
        "fig, ax1 = plt.subplots(1,1)\n",
        "ax2 = ax1.twinx()\n",
        "sns.barplot( x =q5.index, y = q5['Quantity Ordered'], ax = ax1 )\n",
        "sns.lineplot( x =q5.index, y = all_data.groupby('Product').mean()['Price Each'] , ax = ax2)\n",
        "ax1.set_xticklabels(q5.index,rotation = 'vertical')\n",
        "ax2.set_ylabel('Price Each', color = 'b')"
      ],
      "execution_count": null,
      "outputs": [
        {
          "output_type": "execute_result",
          "data": {
            "text/plain": [
              "Text(0, 0.5, 'Price Each')"
            ]
          },
          "metadata": {},
          "execution_count": 199
        },
        {
          "output_type": "display_data",
          "data": {
            "image/png": "[encoded data removed]",
            "text/plain": [
              "<Figure size 432x288 with 2 Axes>"
            ]
          },
          "metadata": {
            "needs_background": "light"
          }
        }
      ]
    },
    {
      "cell_type": "markdown",
      "metadata": {
        "id": "TY2OJ6ONKQIS"
      },
      "source": [
        "AAA- Bateries are most sold product and the reason is they are cheap so the cheaper products are sold in higher quantity"
      ]
    }
  ]
}